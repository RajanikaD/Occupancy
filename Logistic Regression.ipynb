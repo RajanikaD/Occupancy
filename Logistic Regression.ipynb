{
 "cells": [
  {
   "cell_type": "code",
   "execution_count": 1,
   "id": "6e83832f",
   "metadata": {},
   "outputs": [],
   "source": [
    "import numpy as np \n",
    "import pandas as pd \n",
    "import os"
   ]
  },
  {
   "cell_type": "code",
   "execution_count": 2,
   "id": "2e6483ab",
   "metadata": {},
   "outputs": [
    {
     "name": "stdout",
     "output_type": "stream",
     "text": [
      "<class 'pandas.core.frame.DataFrame'>\n",
      "Int64Index: 2665 entries, 140 to 2804\n",
      "Data columns (total 7 columns):\n",
      " #   Column         Non-Null Count  Dtype  \n",
      "---  ------         --------------  -----  \n",
      " 0   date           2665 non-null   object \n",
      " 1   Temperature    2665 non-null   float64\n",
      " 2   Humidity       2665 non-null   float64\n",
      " 3   Light          2665 non-null   float64\n",
      " 4   CO2            2665 non-null   float64\n",
      " 5   HumidityRatio  2665 non-null   float64\n",
      " 6   Occupancy      2665 non-null   int64  \n",
      "dtypes: float64(5), int64(1), object(1)\n",
      "memory usage: 166.6+ KB\n"
     ]
    }
   ],
   "source": [
    "data = pd.read_csv(r\"C:\\Users\\rajan\\Downloads\\occupancy_data\\datatest.txt\")\n",
    "data.info()"
   ]
  },
  {
   "cell_type": "code",
   "execution_count": 3,
   "id": "93f559e6",
   "metadata": {},
   "outputs": [],
   "source": [
    "data.drop([\"date\"],axis=1,inplace=True)"
   ]
  },
  {
   "cell_type": "code",
   "execution_count": 4,
   "id": "c9e12efe",
   "metadata": {},
   "outputs": [
    {
     "name": "stdout",
     "output_type": "stream",
     "text": [
      "<class 'pandas.core.frame.DataFrame'>\n",
      "Int64Index: 2665 entries, 140 to 2804\n",
      "Data columns (total 6 columns):\n",
      " #   Column         Non-Null Count  Dtype  \n",
      "---  ------         --------------  -----  \n",
      " 0   Temperature    2665 non-null   float64\n",
      " 1   Humidity       2665 non-null   float64\n",
      " 2   Light          2665 non-null   float64\n",
      " 3   CO2            2665 non-null   float64\n",
      " 4   HumidityRatio  2665 non-null   float64\n",
      " 5   Occupancy      2665 non-null   int64  \n",
      "dtypes: float64(5), int64(1)\n",
      "memory usage: 145.7 KB\n"
     ]
    }
   ],
   "source": [
    "data.info()"
   ]
  },
  {
   "cell_type": "code",
   "execution_count": 5,
   "id": "16baee91",
   "metadata": {},
   "outputs": [],
   "source": [
    "y = data.Occupancy.values"
   ]
  },
  {
   "cell_type": "code",
   "execution_count": 6,
   "id": "003d21a7",
   "metadata": {},
   "outputs": [],
   "source": [
    "x_data = data.drop([\"Occupancy\"],axis=1)"
   ]
  },
  {
   "cell_type": "code",
   "execution_count": 7,
   "id": "1a5e2d2e",
   "metadata": {},
   "outputs": [
    {
     "name": "stdout",
     "output_type": "stream",
     "text": [
      "      Temperature  Humidity     Light       CO2  HumidityRatio\n",
      "140      0.831683  0.445132  0.344793  0.330033       0.704212\n",
      "141      0.835960  0.447053  0.340787  0.341523       0.708308\n",
      "142      0.838812  0.440651  0.337409  0.351030       0.704689\n",
      "143      0.837030  0.429448  0.290912  0.356245       0.694383\n",
      "144      0.844515  0.437450  0.287877  0.360605       0.705384\n",
      "...           ...       ...       ...       ...            ...\n",
      "2800     0.971881  0.384102  0.476064  0.741472       0.735505\n",
      "2801     0.981386  0.387943  0.477125  0.719877       0.744430\n",
      "2802     0.981386  0.384102  0.481367  0.716389       0.741135\n",
      "2803     0.987723  0.384102  0.479010  0.713516       0.744896\n",
      "2804     1.000000  0.382146  0.470172  0.714542       0.750511\n",
      "\n",
      "[2665 rows x 5 columns]\n"
     ]
    },
    {
     "name": "stderr",
     "output_type": "stream",
     "text": [
      "C:\\Users\\rajan\\anaconda3\\lib\\site-packages\\numpy\\core\\fromnumeric.py:84: FutureWarning: In a future version, DataFrame.min(axis=None) will return a scalar min over the entire DataFrame. To retain the old behavior, use 'frame.min(axis=0)' or just 'frame.min()'\n",
      "  return reduction(axis=axis, out=out, **passkwargs)\n",
      "C:\\Users\\rajan\\anaconda3\\lib\\site-packages\\numpy\\core\\fromnumeric.py:84: FutureWarning: In a future version, DataFrame.max(axis=None) will return a scalar max over the entire DataFrame. To retain the old behavior, use 'frame.max(axis=0)' or just 'frame.max()'\n",
      "  return reduction(axis=axis, out=out, **passkwargs)\n"
     ]
    }
   ],
   "source": [
    "x = (x_data - np.min(x_data)) /(np.max(x_data) - np.min(x_data)).values\n",
    "print(x)"
   ]
  },
  {
   "cell_type": "code",
   "execution_count": 8,
   "id": "d576203f",
   "metadata": {},
   "outputs": [],
   "source": [
    "from sklearn.model_selection import train_test_split\n",
    "x_train , x_test , y_train , y_test = train_test_split(x,y,test_size=0.3,random_state=42)"
   ]
  },
  {
   "cell_type": "code",
   "execution_count": 9,
   "id": "aad354b6",
   "metadata": {},
   "outputs": [
    {
     "name": "stdout",
     "output_type": "stream",
     "text": [
      "0.97125\n"
     ]
    }
   ],
   "source": [
    "from sklearn.linear_model import LogisticRegression\n",
    "lr = LogisticRegression()\n",
    "lr.fit(x_train,y_train)\n",
    "\n",
    "y_pred = lr.predict(x_test)\n",
    "from sklearn.metrics import accuracy_score\n",
    "accuracy = accuracy_score(y_test, y_pred)\n",
    "print(accuracy)"
   ]
  },
  {
   "cell_type": "code",
   "execution_count": null,
   "id": "9fac3e25",
   "metadata": {},
   "outputs": [],
   "source": []
  },
  {
   "cell_type": "code",
   "execution_count": null,
   "id": "332a2ec4",
   "metadata": {},
   "outputs": [],
   "source": []
  },
  {
   "cell_type": "code",
   "execution_count": null,
   "id": "16dc386a",
   "metadata": {},
   "outputs": [],
   "source": []
  }
 ],
 "metadata": {
  "kernelspec": {
   "display_name": "Python 3 (ipykernel)",
   "language": "python",
   "name": "python3"
  },
  "language_info": {
   "codemirror_mode": {
    "name": "ipython",
    "version": 3
   },
   "file_extension": ".py",
   "mimetype": "text/x-python",
   "name": "python",
   "nbconvert_exporter": "python",
   "pygments_lexer": "ipython3",
   "version": "3.9.12"
  }
 },
 "nbformat": 4,
 "nbformat_minor": 5
}
