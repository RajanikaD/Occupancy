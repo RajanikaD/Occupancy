{
 "cells": [
  {
   "cell_type": "code",
   "execution_count": 2,
   "id": "870eb29e",
   "metadata": {},
   "outputs": [],
   "source": [
    "import numpy as np \n",
    "import pandas as pd \n",
    "import matplotlib.pyplot as plt \n",
    "import seaborn as sns \n",
    "%matplotlib inline"
   ]
  },
  {
   "cell_type": "code",
   "execution_count": 3,
   "id": "057e6167",
   "metadata": {},
   "outputs": [],
   "source": [
    "import warnings\n",
    "\n",
    "warnings.filterwarnings('ignore')"
   ]
  },
  {
   "cell_type": "code",
   "execution_count": 4,
   "id": "a048e758",
   "metadata": {},
   "outputs": [
    {
     "name": "stdout",
     "output_type": "stream",
     "text": [
      "<class 'pandas.core.frame.DataFrame'>\n",
      "Int64Index: 2665 entries, 140 to 2804\n",
      "Data columns (total 7 columns):\n",
      " #   Column         Non-Null Count  Dtype  \n",
      "---  ------         --------------  -----  \n",
      " 0   date           2665 non-null   object \n",
      " 1   Temperature    2665 non-null   float64\n",
      " 2   Humidity       2665 non-null   float64\n",
      " 3   Light          2665 non-null   float64\n",
      " 4   CO2            2665 non-null   float64\n",
      " 5   HumidityRatio  2665 non-null   float64\n",
      " 6   Occupancy      2665 non-null   int64  \n",
      "dtypes: float64(5), int64(1), object(1)\n",
      "memory usage: 166.6+ KB\n"
     ]
    }
   ],
   "source": [
    "df = pd.read_csv(r\"C:\\Users\\rajan\\Downloads\\occupancy_data\\datatest.txt\")\n",
    "df.info()"
   ]
  },
  {
   "cell_type": "code",
   "execution_count": 5,
   "id": "c3cf0a59",
   "metadata": {},
   "outputs": [],
   "source": [
    "df.drop([\"date\"],axis=1,inplace=True)"
   ]
  },
  {
   "cell_type": "code",
   "execution_count": 6,
   "id": "f82a39a5",
   "metadata": {},
   "outputs": [
    {
     "name": "stdout",
     "output_type": "stream",
     "text": [
      "<class 'pandas.core.frame.DataFrame'>\n",
      "Int64Index: 2665 entries, 140 to 2804\n",
      "Data columns (total 6 columns):\n",
      " #   Column         Non-Null Count  Dtype  \n",
      "---  ------         --------------  -----  \n",
      " 0   Temperature    2665 non-null   float64\n",
      " 1   Humidity       2665 non-null   float64\n",
      " 2   Light          2665 non-null   float64\n",
      " 3   CO2            2665 non-null   float64\n",
      " 4   HumidityRatio  2665 non-null   float64\n",
      " 5   Occupancy      2665 non-null   int64  \n",
      "dtypes: float64(5), int64(1)\n",
      "memory usage: 145.7 KB\n"
     ]
    }
   ],
   "source": [
    "df.info()"
   ]
  },
  {
   "cell_type": "code",
   "execution_count": 7,
   "id": "4d1f6562",
   "metadata": {},
   "outputs": [
    {
     "data": {
      "text/plain": [
       "(2665, 6)"
      ]
     },
     "execution_count": 7,
     "metadata": {},
     "output_type": "execute_result"
    }
   ],
   "source": [
    "df.shape"
   ]
  },
  {
   "cell_type": "code",
   "execution_count": 8,
   "id": "b2571805",
   "metadata": {},
   "outputs": [
    {
     "data": {
      "text/plain": [
       "Index(['Temperature', 'Humidity', 'Light', 'CO2', 'HumidityRatio',\n",
       "       'Occupancy'],\n",
       "      dtype='object')"
      ]
     },
     "execution_count": 8,
     "metadata": {},
     "output_type": "execute_result"
    }
   ],
   "source": [
    "col_names = df.columns\n",
    "\n",
    "col_names"
   ]
  },
  {
   "cell_type": "code",
   "execution_count": 10,
   "id": "82040eeb",
   "metadata": {},
   "outputs": [
    {
     "data": {
      "text/plain": [
       "0    1693\n",
       "1     972\n",
       "Name: Occupancy, dtype: int64"
      ]
     },
     "execution_count": 10,
     "metadata": {},
     "output_type": "execute_result"
    }
   ],
   "source": [
    "df['Occupancy'].value_counts()"
   ]
  },
  {
   "cell_type": "code",
   "execution_count": 11,
   "id": "2f1e4573",
   "metadata": {},
   "outputs": [
    {
     "data": {
      "text/plain": [
       "0    0.635272\n",
       "1    0.364728\n",
       "Name: Occupancy, dtype: float64"
      ]
     },
     "execution_count": 11,
     "metadata": {},
     "output_type": "execute_result"
    }
   ],
   "source": [
    "df['Occupancy'].value_counts()/np.float(len(df))"
   ]
  },
  {
   "cell_type": "code",
   "execution_count": 12,
   "id": "77d0a78c",
   "metadata": {},
   "outputs": [
    {
     "data": {
      "text/plain": [
       "Temperature      0\n",
       "Humidity         0\n",
       "Light            0\n",
       "CO2              0\n",
       "HumidityRatio    0\n",
       "Occupancy        0\n",
       "dtype: int64"
      ]
     },
     "execution_count": 12,
     "metadata": {},
     "output_type": "execute_result"
    }
   ],
   "source": [
    "df.isnull().sum()"
   ]
  },
  {
   "cell_type": "code",
   "execution_count": 13,
   "id": "82f8a6f2",
   "metadata": {},
   "outputs": [
    {
     "data": {
      "text/html": [
       "<div>\n",
       "<style scoped>\n",
       "    .dataframe tbody tr th:only-of-type {\n",
       "        vertical-align: middle;\n",
       "    }\n",
       "\n",
       "    .dataframe tbody tr th {\n",
       "        vertical-align: top;\n",
       "    }\n",
       "\n",
       "    .dataframe thead th {\n",
       "        text-align: right;\n",
       "    }\n",
       "</style>\n",
       "<table border=\"1\" class=\"dataframe\">\n",
       "  <thead>\n",
       "    <tr style=\"text-align: right;\">\n",
       "      <th></th>\n",
       "      <th>Temperature</th>\n",
       "      <th>Humidity</th>\n",
       "      <th>Light</th>\n",
       "      <th>CO2</th>\n",
       "      <th>HumidityRatio</th>\n",
       "      <th>Occupancy</th>\n",
       "    </tr>\n",
       "  </thead>\n",
       "  <tbody>\n",
       "    <tr>\n",
       "      <th>count</th>\n",
       "      <td>2665.00</td>\n",
       "      <td>2665.00</td>\n",
       "      <td>2665.00</td>\n",
       "      <td>2665.00</td>\n",
       "      <td>2665.00</td>\n",
       "      <td>2665.00</td>\n",
       "    </tr>\n",
       "    <tr>\n",
       "      <th>mean</th>\n",
       "      <td>21.43</td>\n",
       "      <td>25.35</td>\n",
       "      <td>193.23</td>\n",
       "      <td>717.91</td>\n",
       "      <td>0.00</td>\n",
       "      <td>0.36</td>\n",
       "    </tr>\n",
       "    <tr>\n",
       "      <th>std</th>\n",
       "      <td>1.03</td>\n",
       "      <td>2.44</td>\n",
       "      <td>250.21</td>\n",
       "      <td>292.68</td>\n",
       "      <td>0.00</td>\n",
       "      <td>0.48</td>\n",
       "    </tr>\n",
       "    <tr>\n",
       "      <th>min</th>\n",
       "      <td>20.20</td>\n",
       "      <td>22.10</td>\n",
       "      <td>0.00</td>\n",
       "      <td>427.50</td>\n",
       "      <td>0.00</td>\n",
       "      <td>0.00</td>\n",
       "    </tr>\n",
       "    <tr>\n",
       "      <th>25%</th>\n",
       "      <td>20.65</td>\n",
       "      <td>23.26</td>\n",
       "      <td>0.00</td>\n",
       "      <td>466.00</td>\n",
       "      <td>0.00</td>\n",
       "      <td>0.00</td>\n",
       "    </tr>\n",
       "    <tr>\n",
       "      <th>50%</th>\n",
       "      <td>20.89</td>\n",
       "      <td>25.00</td>\n",
       "      <td>0.00</td>\n",
       "      <td>580.50</td>\n",
       "      <td>0.00</td>\n",
       "      <td>0.00</td>\n",
       "    </tr>\n",
       "    <tr>\n",
       "      <th>75%</th>\n",
       "      <td>22.36</td>\n",
       "      <td>26.86</td>\n",
       "      <td>442.50</td>\n",
       "      <td>956.33</td>\n",
       "      <td>0.00</td>\n",
       "      <td>1.00</td>\n",
       "    </tr>\n",
       "    <tr>\n",
       "      <th>max</th>\n",
       "      <td>24.41</td>\n",
       "      <td>31.47</td>\n",
       "      <td>1697.25</td>\n",
       "      <td>1402.25</td>\n",
       "      <td>0.01</td>\n",
       "      <td>1.00</td>\n",
       "    </tr>\n",
       "  </tbody>\n",
       "</table>\n",
       "</div>"
      ],
      "text/plain": [
       "       Temperature  Humidity    Light      CO2  HumidityRatio  Occupancy\n",
       "count      2665.00   2665.00  2665.00  2665.00        2665.00    2665.00\n",
       "mean         21.43     25.35   193.23   717.91           0.00       0.36\n",
       "std           1.03      2.44   250.21   292.68           0.00       0.48\n",
       "min          20.20     22.10     0.00   427.50           0.00       0.00\n",
       "25%          20.65     23.26     0.00   466.00           0.00       0.00\n",
       "50%          20.89     25.00     0.00   580.50           0.00       0.00\n",
       "75%          22.36     26.86   442.50   956.33           0.00       1.00\n",
       "max          24.41     31.47  1697.25  1402.25           0.01       1.00"
      ]
     },
     "execution_count": 13,
     "metadata": {},
     "output_type": "execute_result"
    }
   ],
   "source": [
    "round(df.describe(),2)"
   ]
  },
  {
   "cell_type": "code",
   "execution_count": 14,
   "id": "6a81e46b",
   "metadata": {},
   "outputs": [
    {
     "data": {
      "text/plain": [
       "Text(0, 0.5, 'HumidityRatio')"
      ]
     },
     "execution_count": 14,
     "metadata": {},
     "output_type": "execute_result"
    },
    {
     "data": {
      "image/png": "[encoded data removed]",
      "text/plain": [
       "<Figure size 1728x1440 with 5 Axes>"
      ]
     },
     "metadata": {
      "needs_background": "light"
     },
     "output_type": "display_data"
    }
   ],
   "source": [
    "plt.figure(figsize=(24,20))\n",
    "\n",
    "\n",
    "plt.subplot(4, 2, 1)\n",
    "fig = df.boxplot(column='Temperature')\n",
    "fig.set_title('')\n",
    "fig.set_ylabel('Temperature')\n",
    "\n",
    "\n",
    "plt.subplot(4, 2, 2)\n",
    "fig = df.boxplot(column='Humidity')\n",
    "fig.set_title('')\n",
    "fig.set_ylabel('Humidity')\n",
    "\n",
    "\n",
    "plt.subplot(4, 2, 3)\n",
    "fig = df.boxplot(column='Light')\n",
    "fig.set_title('')\n",
    "fig.set_ylabel('Light')\n",
    "\n",
    "\n",
    "plt.subplot(4, 2, 4)\n",
    "fig = df.boxplot(column='CO2')\n",
    "fig.set_title('')\n",
    "fig.set_ylabel('CO2')\n",
    "\n",
    "\n",
    "plt.subplot(4, 2, 5)\n",
    "fig = df.boxplot(column='HumidityRatio')\n",
    "fig.set_title('')\n",
    "fig.set_ylabel('HumidityRatio')\n"
   ]
  },
  {
   "cell_type": "code",
   "execution_count": 15,
   "id": "26e9a120",
   "metadata": {},
   "outputs": [
    {
     "data": {
      "text/plain": [
       "Text(0, 0.5, 'Number of pulsar stars')"
      ]
     },
     "execution_count": 15,
     "metadata": {},
     "output_type": "execute_result"
    },
    {
     "data": {
      "image/png": "[encoded data removed]",
      "text/plain": [
       "<Figure size 1728x1440 with 5 Axes>"
      ]
     },
     "metadata": {
      "needs_background": "light"
     },
     "output_type": "display_data"
    }
   ],
   "source": [
    "plt.figure(figsize=(24,20))\n",
    "\n",
    "\n",
    "plt.subplot(4, 2, 1)\n",
    "fig = df['Temperature'].hist(bins=20)\n",
    "fig.set_xlabel('Temperature')\n",
    "fig.set_ylabel('Number of pulsar stars')\n",
    "\n",
    "\n",
    "plt.subplot(4, 2, 2)\n",
    "fig = df['Humidity'].hist(bins=20)\n",
    "fig.set_xlabel('Humidity')\n",
    "fig.set_ylabel('Number of pulsar stars')\n",
    "\n",
    "\n",
    "plt.subplot(4, 2, 3)\n",
    "fig = df['Light'].hist(bins=20)\n",
    "fig.set_xlabel('Light')\n",
    "fig.set_ylabel('Number of pulsar stars')\n",
    "\n",
    "\n",
    "\n",
    "plt.subplot(4, 2, 4)\n",
    "fig = df['CO2'].hist(bins=20)\n",
    "fig.set_xlabel('CO2')\n",
    "fig.set_ylabel('Number of pulsar stars')\n",
    "\n",
    "\n",
    "\n",
    "plt.subplot(4, 2, 5)\n",
    "fig = df['HumidityRatio'].hist(bins=20)\n",
    "fig.set_xlabel('HumidityRatio')\n",
    "fig.set_ylabel('Number of pulsar stars')\n"
   ]
  },
  {
   "cell_type": "code",
   "execution_count": 16,
   "id": "9af2c204",
   "metadata": {},
   "outputs": [],
   "source": [
    "X = df.drop(['Occupancy'], axis=1)\n",
    "\n",
    "y = df['Occupancy']"
   ]
  },
  {
   "cell_type": "code",
   "execution_count": 17,
   "id": "bd09a58c",
   "metadata": {},
   "outputs": [],
   "source": [
    "from sklearn.model_selection import train_test_split\n",
    "\n",
    "X_train, X_test, y_train, y_test = train_test_split(X, y, test_size = 0.2, random_state = 0)"
   ]
  },
  {
   "cell_type": "code",
   "execution_count": 18,
   "id": "30680ca7",
   "metadata": {},
   "outputs": [
    {
     "data": {
      "text/plain": [
       "((2132, 5), (533, 5))"
      ]
     },
     "execution_count": 18,
     "metadata": {},
     "output_type": "execute_result"
    }
   ],
   "source": [
    "X_train.shape, X_test.shape"
   ]
  },
  {
   "cell_type": "code",
   "execution_count": 19,
   "id": "2a37ba1d",
   "metadata": {},
   "outputs": [],
   "source": [
    "cols = X_train.columns"
   ]
  },
  {
   "cell_type": "code",
   "execution_count": 20,
   "id": "c2b97ae9",
   "metadata": {},
   "outputs": [],
   "source": [
    "from sklearn.preprocessing import StandardScaler\n",
    "\n",
    "scaler = StandardScaler()\n",
    "\n",
    "X_train = scaler.fit_transform(X_train)\n",
    "\n",
    "X_test = scaler.transform(X_test)"
   ]
  },
  {
   "cell_type": "code",
   "execution_count": 21,
   "id": "fc5c704e",
   "metadata": {},
   "outputs": [],
   "source": [
    "X_train = pd.DataFrame(X_train, columns=[cols])"
   ]
  },
  {
   "cell_type": "code",
   "execution_count": 22,
   "id": "8e23be0e",
   "metadata": {},
   "outputs": [],
   "source": [
    "X_test = pd.DataFrame(X_test, columns=[cols])"
   ]
  },
  {
   "cell_type": "code",
   "execution_count": 23,
   "id": "493ec726",
   "metadata": {},
   "outputs": [
    {
     "data": {
      "text/html": [
       "<div>\n",
       "<style scoped>\n",
       "    .dataframe tbody tr th:only-of-type {\n",
       "        vertical-align: middle;\n",
       "    }\n",
       "\n",
       "    .dataframe tbody tr th {\n",
       "        vertical-align: top;\n",
       "    }\n",
       "\n",
       "    .dataframe thead tr th {\n",
       "        text-align: left;\n",
       "    }\n",
       "</style>\n",
       "<table border=\"1\" class=\"dataframe\">\n",
       "  <thead>\n",
       "    <tr>\n",
       "      <th></th>\n",
       "      <th>Temperature</th>\n",
       "      <th>Humidity</th>\n",
       "      <th>Light</th>\n",
       "      <th>CO2</th>\n",
       "      <th>HumidityRatio</th>\n",
       "    </tr>\n",
       "  </thead>\n",
       "  <tbody>\n",
       "    <tr>\n",
       "      <th>count</th>\n",
       "      <td>2.132000e+03</td>\n",
       "      <td>2.132000e+03</td>\n",
       "      <td>2.132000e+03</td>\n",
       "      <td>2.132000e+03</td>\n",
       "      <td>2.132000e+03</td>\n",
       "    </tr>\n",
       "    <tr>\n",
       "      <th>mean</th>\n",
       "      <td>1.355076e-15</td>\n",
       "      <td>8.711545e-16</td>\n",
       "      <td>-1.603887e-17</td>\n",
       "      <td>-2.034020e-16</td>\n",
       "      <td>1.789271e-16</td>\n",
       "    </tr>\n",
       "    <tr>\n",
       "      <th>std</th>\n",
       "      <td>1.000235e+00</td>\n",
       "      <td>1.000235e+00</td>\n",
       "      <td>1.000235e+00</td>\n",
       "      <td>1.000235e+00</td>\n",
       "      <td>1.000235e+00</td>\n",
       "    </tr>\n",
       "    <tr>\n",
       "      <th>min</th>\n",
       "      <td>-1.211556e+00</td>\n",
       "      <td>-1.350134e+00</td>\n",
       "      <td>-7.780665e-01</td>\n",
       "      <td>-1.004991e+00</td>\n",
       "      <td>-1.199858e+00</td>\n",
       "    </tr>\n",
       "    <tr>\n",
       "      <th>25%</th>\n",
       "      <td>-7.507702e-01</td>\n",
       "      <td>-8.620014e-01</td>\n",
       "      <td>-7.780665e-01</td>\n",
       "      <td>-8.714195e-01</td>\n",
       "      <td>-8.037498e-01</td>\n",
       "    </tr>\n",
       "    <tr>\n",
       "      <th>50%</th>\n",
       "      <td>-5.066346e-01</td>\n",
       "      <td>-1.605678e-01</td>\n",
       "      <td>-7.780665e-01</td>\n",
       "      <td>-4.690563e-01</td>\n",
       "      <td>-3.453240e-01</td>\n",
       "    </tr>\n",
       "    <tr>\n",
       "      <th>75%</th>\n",
       "      <td>9.129091e-01</td>\n",
       "      <td>6.489010e-01</td>\n",
       "      <td>9.840825e-01</td>\n",
       "      <td>8.328241e-01</td>\n",
       "      <td>8.296853e-01</td>\n",
       "    </tr>\n",
       "    <tr>\n",
       "      <th>max</th>\n",
       "      <td>2.870845e+00</td>\n",
       "      <td>2.494420e+00</td>\n",
       "      <td>5.964820e+00</td>\n",
       "      <td>2.320647e+00</td>\n",
       "      <td>2.193827e+00</td>\n",
       "    </tr>\n",
       "  </tbody>\n",
       "</table>\n",
       "</div>"
      ],
      "text/plain": [
       "        Temperature      Humidity         Light           CO2 HumidityRatio\n",
       "count  2.132000e+03  2.132000e+03  2.132000e+03  2.132000e+03  2.132000e+03\n",
       "mean   1.355076e-15  8.711545e-16 -1.603887e-17 -2.034020e-16  1.789271e-16\n",
       "std    1.000235e+00  1.000235e+00  1.000235e+00  1.000235e+00  1.000235e+00\n",
       "min   -1.211556e+00 -1.350134e+00 -7.780665e-01 -1.004991e+00 -1.199858e+00\n",
       "25%   -7.507702e-01 -8.620014e-01 -7.780665e-01 -8.714195e-01 -8.037498e-01\n",
       "50%   -5.066346e-01 -1.605678e-01 -7.780665e-01 -4.690563e-01 -3.453240e-01\n",
       "75%    9.129091e-01  6.489010e-01  9.840825e-01  8.328241e-01  8.296853e-01\n",
       "max    2.870845e+00  2.494420e+00  5.964820e+00  2.320647e+00  2.193827e+00"
      ]
     },
     "execution_count": 23,
     "metadata": {},
     "output_type": "execute_result"
    }
   ],
   "source": [
    "X_train.describe()"
   ]
  },
  {
   "cell_type": "code",
   "execution_count": 28,
   "id": "9bfa078e",
   "metadata": {},
   "outputs": [
    {
     "name": "stdout",
     "output_type": "stream",
     "text": [
      "Model accuracy scores: 0.9775\n"
     ]
    }
   ],
   "source": [
    "from sklearn.svm import SVC\n",
    "\n",
    "\n",
    "from sklearn.metrics import accuracy_score\n",
    "\n",
    "\n",
    "svc=SVC() \n",
    "\n",
    "\n",
    "svc.fit(X_train,y_train)\n",
    "\n",
    "\n",
    "y_pred=svc.predict(X_test)\n",
    "\n",
    "\n",
    "print('Model accuracy scores: {0:0.4f}'. format(accuracy_score(y_test, y_pred)))"
   ]
  },
  {
   "cell_type": "code",
   "execution_count": null,
   "id": "d25cb845",
   "metadata": {},
   "outputs": [],
   "source": []
  },
  {
   "cell_type": "code",
   "execution_count": null,
   "id": "eb10807d",
   "metadata": {},
   "outputs": [],
   "source": []
  }
 ],
 "metadata": {
  "kernelspec": {
   "display_name": "Python 3 (ipykernel)",
   "language": "python",
   "name": "python3"
  },
  "language_info": {
   "codemirror_mode": {
    "name": "ipython",
    "version": 3
   },
   "file_extension": ".py",
   "mimetype": "text/x-python",
   "name": "python",
   "nbconvert_exporter": "python",
   "pygments_lexer": "ipython3",
   "version": "3.9.12"
  }
 },
 "nbformat": 4,
 "nbformat_minor": 5
}
