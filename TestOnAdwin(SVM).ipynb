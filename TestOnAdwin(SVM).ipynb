{
 "cells": [
  {
   "cell_type": "code",
   "execution_count": 2,
   "id": "5ded1eeb",
   "metadata": {},
   "outputs": [
    {
     "name": "stdout",
     "output_type": "stream",
     "text": [
      "Number of rows and columns: (8143, 7)\n"
     ]
    },
    {
     "data": {
      "text/html": [
       "<div>\n",
       "<style scoped>\n",
       "    .dataframe tbody tr th:only-of-type {\n",
       "        vertical-align: middle;\n",
       "    }\n",
       "\n",
       "    .dataframe tbody tr th {\n",
       "        vertical-align: top;\n",
       "    }\n",
       "\n",
       "    .dataframe thead th {\n",
       "        text-align: right;\n",
       "    }\n",
       "</style>\n",
       "<table border=\"1\" class=\"dataframe\">\n",
       "  <thead>\n",
       "    <tr style=\"text-align: right;\">\n",
       "      <th></th>\n",
       "      <th>date</th>\n",
       "      <th>Temperature</th>\n",
       "      <th>Humidity</th>\n",
       "      <th>Light</th>\n",
       "      <th>CO2</th>\n",
       "      <th>HumidityRatio</th>\n",
       "      <th>Occupancy</th>\n",
       "    </tr>\n",
       "  </thead>\n",
       "  <tbody>\n",
       "    <tr>\n",
       "      <th>1</th>\n",
       "      <td>2015-02-04 17:51:00</td>\n",
       "      <td>23.1800</td>\n",
       "      <td>27.2720</td>\n",
       "      <td>426.0000</td>\n",
       "      <td>721.2500</td>\n",
       "      <td>0.0048</td>\n",
       "      <td>1</td>\n",
       "    </tr>\n",
       "    <tr>\n",
       "      <th>2</th>\n",
       "      <td>2015-02-04 17:51:59</td>\n",
       "      <td>23.1500</td>\n",
       "      <td>27.2675</td>\n",
       "      <td>429.5000</td>\n",
       "      <td>714.0000</td>\n",
       "      <td>0.0048</td>\n",
       "      <td>1</td>\n",
       "    </tr>\n",
       "    <tr>\n",
       "      <th>3</th>\n",
       "      <td>2015-02-04 17:53:00</td>\n",
       "      <td>23.1500</td>\n",
       "      <td>27.2450</td>\n",
       "      <td>426.0000</td>\n",
       "      <td>713.5000</td>\n",
       "      <td>0.0048</td>\n",
       "      <td>1</td>\n",
       "    </tr>\n",
       "    <tr>\n",
       "      <th>4</th>\n",
       "      <td>2015-02-04 17:54:00</td>\n",
       "      <td>23.1500</td>\n",
       "      <td>27.2000</td>\n",
       "      <td>426.0000</td>\n",
       "      <td>708.2500</td>\n",
       "      <td>0.0048</td>\n",
       "      <td>1</td>\n",
       "    </tr>\n",
       "    <tr>\n",
       "      <th>5</th>\n",
       "      <td>2015-02-04 17:55:00</td>\n",
       "      <td>23.1000</td>\n",
       "      <td>27.2000</td>\n",
       "      <td>426.0000</td>\n",
       "      <td>704.5000</td>\n",
       "      <td>0.0048</td>\n",
       "      <td>1</td>\n",
       "    </tr>\n",
       "  </tbody>\n",
       "</table>\n",
       "</div>"
      ],
      "text/plain": [
       "                  date  Temperature  Humidity    Light      CO2  \\\n",
       "1  2015-02-04 17:51:00      23.1800   27.2720 426.0000 721.2500   \n",
       "2  2015-02-04 17:51:59      23.1500   27.2675 429.5000 714.0000   \n",
       "3  2015-02-04 17:53:00      23.1500   27.2450 426.0000 713.5000   \n",
       "4  2015-02-04 17:54:00      23.1500   27.2000 426.0000 708.2500   \n",
       "5  2015-02-04 17:55:00      23.1000   27.2000 426.0000 704.5000   \n",
       "\n",
       "   HumidityRatio  Occupancy  \n",
       "1         0.0048          1  \n",
       "2         0.0048          1  \n",
       "3         0.0048          1  \n",
       "4         0.0048          1  \n",
       "5         0.0048          1  "
      ]
     },
     "execution_count": 2,
     "metadata": {},
     "output_type": "execute_result"
    }
   ],
   "source": [
    "import numpy as np\n",
    "import matplotlib.pyplot as plt\n",
    "import pandas as pd\n",
    "pd.set_option('display.float_format', lambda x: '%.4f' % x)\n",
    "import seaborn as sns\n",
    "sns.set_context(\"paper\", font_scale=1.3)\n",
    "sns.set_style('white')\n",
    "import warnings\n",
    "warnings.filterwarnings('ignore')\n",
    "from time import time\n",
    "import matplotlib.ticker as tkr\n",
    "from scipy import stats\n",
    "from statsmodels.tsa.stattools import adfuller\n",
    "from sklearn import preprocessing\n",
    "from statsmodels.tsa.stattools import pacf\n",
    "%matplotlib inline\n",
    "import math\n",
    "import keras\n",
    "import tensorflow as tf\n",
    "from keras.models import Sequential\n",
    "from keras.layers import Dense\n",
    "from keras.layers import LSTM\n",
    "from keras.layers import Dropout\n",
    "from keras.layers import *\n",
    "from sklearn.preprocessing import MinMaxScaler\n",
    "from sklearn.metrics import mean_squared_error\n",
    "from sklearn.metrics import mean_absolute_error\n",
    "from keras.callbacks import EarlyStopping\n",
    "from sklearn import preprocessing\n",
    "df=pd.read_csv(r\"C:\\Users\\rajan\\Downloads\\occupancy_data\\datatraining.txt\")\n",
    "print('Number of rows and columns:', df.shape)\n",
    "df.head(5)"
   ]
  },
  {
   "cell_type": "code",
   "execution_count": 16,
   "id": "92ef94db",
   "metadata": {},
   "outputs": [
    {
     "data": {
      "text/html": [
       "<div>\n",
       "<style scoped>\n",
       "    .dataframe tbody tr th:only-of-type {\n",
       "        vertical-align: middle;\n",
       "    }\n",
       "\n",
       "    .dataframe tbody tr th {\n",
       "        vertical-align: top;\n",
       "    }\n",
       "\n",
       "    .dataframe thead th {\n",
       "        text-align: right;\n",
       "    }\n",
       "</style>\n",
       "<table border=\"1\" class=\"dataframe\">\n",
       "  <thead>\n",
       "    <tr style=\"text-align: right;\">\n",
       "      <th></th>\n",
       "      <th>Temperature</th>\n",
       "      <th>Humidity</th>\n",
       "      <th>Light</th>\n",
       "      <th>CO2</th>\n",
       "      <th>HumidityRatio</th>\n",
       "      <th>Occupancy</th>\n",
       "    </tr>\n",
       "  </thead>\n",
       "  <tbody>\n",
       "    <tr>\n",
       "      <th>1</th>\n",
       "      <td>23.1800</td>\n",
       "      <td>27.2720</td>\n",
       "      <td>426.0000</td>\n",
       "      <td>721.2500</td>\n",
       "      <td>0.0048</td>\n",
       "      <td>1</td>\n",
       "    </tr>\n",
       "    <tr>\n",
       "      <th>2</th>\n",
       "      <td>23.1500</td>\n",
       "      <td>27.2675</td>\n",
       "      <td>429.5000</td>\n",
       "      <td>714.0000</td>\n",
       "      <td>0.0048</td>\n",
       "      <td>1</td>\n",
       "    </tr>\n",
       "    <tr>\n",
       "      <th>3</th>\n",
       "      <td>23.1500</td>\n",
       "      <td>27.2450</td>\n",
       "      <td>426.0000</td>\n",
       "      <td>713.5000</td>\n",
       "      <td>0.0048</td>\n",
       "      <td>1</td>\n",
       "    </tr>\n",
       "    <tr>\n",
       "      <th>4</th>\n",
       "      <td>23.1500</td>\n",
       "      <td>27.2000</td>\n",
       "      <td>426.0000</td>\n",
       "      <td>708.2500</td>\n",
       "      <td>0.0048</td>\n",
       "      <td>1</td>\n",
       "    </tr>\n",
       "    <tr>\n",
       "      <th>5</th>\n",
       "      <td>23.1000</td>\n",
       "      <td>27.2000</td>\n",
       "      <td>426.0000</td>\n",
       "      <td>704.5000</td>\n",
       "      <td>0.0048</td>\n",
       "      <td>1</td>\n",
       "    </tr>\n",
       "    <tr>\n",
       "      <th>...</th>\n",
       "      <td>...</td>\n",
       "      <td>...</td>\n",
       "      <td>...</td>\n",
       "      <td>...</td>\n",
       "      <td>...</td>\n",
       "      <td>...</td>\n",
       "    </tr>\n",
       "    <tr>\n",
       "      <th>8139</th>\n",
       "      <td>21.0500</td>\n",
       "      <td>36.0975</td>\n",
       "      <td>433.0000</td>\n",
       "      <td>787.2500</td>\n",
       "      <td>0.0056</td>\n",
       "      <td>1</td>\n",
       "    </tr>\n",
       "    <tr>\n",
       "      <th>8140</th>\n",
       "      <td>21.0500</td>\n",
       "      <td>35.9950</td>\n",
       "      <td>433.0000</td>\n",
       "      <td>789.5000</td>\n",
       "      <td>0.0056</td>\n",
       "      <td>1</td>\n",
       "    </tr>\n",
       "    <tr>\n",
       "      <th>8141</th>\n",
       "      <td>21.1000</td>\n",
       "      <td>36.0950</td>\n",
       "      <td>433.0000</td>\n",
       "      <td>798.5000</td>\n",
       "      <td>0.0056</td>\n",
       "      <td>1</td>\n",
       "    </tr>\n",
       "    <tr>\n",
       "      <th>8142</th>\n",
       "      <td>21.1000</td>\n",
       "      <td>36.2600</td>\n",
       "      <td>433.0000</td>\n",
       "      <td>820.3333</td>\n",
       "      <td>0.0056</td>\n",
       "      <td>1</td>\n",
       "    </tr>\n",
       "    <tr>\n",
       "      <th>8143</th>\n",
       "      <td>21.1000</td>\n",
       "      <td>36.2000</td>\n",
       "      <td>447.0000</td>\n",
       "      <td>821.0000</td>\n",
       "      <td>0.0056</td>\n",
       "      <td>1</td>\n",
       "    </tr>\n",
       "  </tbody>\n",
       "</table>\n",
       "<p>8143 rows × 6 columns</p>\n",
       "</div>"
      ],
      "text/plain": [
       "      Temperature  Humidity    Light      CO2  HumidityRatio  Occupancy\n",
       "1         23.1800   27.2720 426.0000 721.2500         0.0048          1\n",
       "2         23.1500   27.2675 429.5000 714.0000         0.0048          1\n",
       "3         23.1500   27.2450 426.0000 713.5000         0.0048          1\n",
       "4         23.1500   27.2000 426.0000 708.2500         0.0048          1\n",
       "5         23.1000   27.2000 426.0000 704.5000         0.0048          1\n",
       "...           ...       ...      ...      ...            ...        ...\n",
       "8139      21.0500   36.0975 433.0000 787.2500         0.0056          1\n",
       "8140      21.0500   35.9950 433.0000 789.5000         0.0056          1\n",
       "8141      21.1000   36.0950 433.0000 798.5000         0.0056          1\n",
       "8142      21.1000   36.2600 433.0000 820.3333         0.0056          1\n",
       "8143      21.1000   36.2000 447.0000 821.0000         0.0056          1\n",
       "\n",
       "[8143 rows x 6 columns]"
      ]
     },
     "execution_count": 16,
     "metadata": {},
     "output_type": "execute_result"
    }
   ],
   "source": [
    "main_data=df.iloc[:, 1:7]\n",
    "main_data"
   ]
  },
  {
   "cell_type": "code",
   "execution_count": 17,
   "id": "d72874ca",
   "metadata": {},
   "outputs": [],
   "source": [
    "from keras import backend as K\n",
    "\n",
    "def recall_m(y_true, y_pred):\n",
    "    true_positives = K.sum(K.round(K.clip(y_true * y_pred, 0, 1)))\n",
    "    possible_positives = K.sum(K.round(K.clip(y_true, 0, 1)))\n",
    "    recall = true_positives / (possible_positives + K.epsilon())\n",
    "    return recall\n",
    "\n",
    "def precision_m(y_true, y_pred):\n",
    "    true_positives = K.sum(K.round(K.clip(y_true * y_pred, 0, 1)))\n",
    "    predicted_positives = K.sum(K.round(K.clip(y_pred, 0, 1)))\n",
    "    precision = true_positives / (predicted_positives + K.epsilon())\n",
    "    return precision\n",
    "\n",
    "def f1_m(y_true, y_pred):\n",
    "    precision = precision_m(y_true, y_pred)\n",
    "    recall = recall_m(y_true, y_pred)\n",
    "    return 2*((precision*recall)/(precision+recall+K.epsilon()))"
   ]
  },
  {
   "cell_type": "code",
   "execution_count": 18,
   "id": "bce25ff4",
   "metadata": {},
   "outputs": [],
   "source": [
    "scaler = MinMaxScaler(feature_range=(0, 1))\n",
    "dataset = scaler.fit_transform(main_data)"
   ]
  },
  {
   "cell_type": "code",
   "execution_count": 19,
   "id": "afed9a26",
   "metadata": {},
   "outputs": [
    {
     "name": "stdout",
     "output_type": "stream",
     "text": [
      "(4071, 6) (4072, 6) (4071,) (4072,)\n"
     ]
    }
   ],
   "source": [
    "from sklearn.datasets import make_blobs\n",
    "from sklearn.model_selection import train_test_split\n",
    "# create dataset\n",
    "X, y = dataset,df['Occupancy']\n",
    "# split into train test sets\n",
    "X_train, X_test, y_train, y_test = train_test_split(X, y, test_size=0.50)\n",
    "print(X_train.shape, X_test.shape, y_train.shape, y_test.shape)"
   ]
  },
  {
   "cell_type": "code",
   "execution_count": 20,
   "id": "998c409d",
   "metadata": {},
   "outputs": [],
   "source": [
    "X_train = np.reshape(X_train, (X_train.shape[0], 1, X_train.shape[1]))\n",
    "X_test = np.reshape(X_test, (X_test.shape[0], 1, X_test.shape[1]))"
   ]
  },
  {
   "cell_type": "code",
   "execution_count": 21,
   "id": "19c3b9dc",
   "metadata": {},
   "outputs": [],
   "source": [
    "METRICS = [\n",
    "      keras.metrics.TruePositives(name='tp'),\n",
    "      keras.metrics.FalsePositives(name='fp'),\n",
    "      keras.metrics.TrueNegatives(name='tn'),\n",
    "      keras.metrics.FalseNegatives(name='fn'), \n",
    "      keras.metrics.BinaryAccuracy(name='accuracy'),\n",
    "      keras.metrics.Precision(name='precision'),\n",
    "      keras.metrics.Recall(name='recall'),\n",
    "      keras.metrics.AUC(name='auc'),\n",
    "      keras.metrics.AUC(name='prc', curve='PR'), # precision-recall curve\n",
    "]"
   ]
  },
  {
   "cell_type": "code",
   "execution_count": 22,
   "id": "ecd073b2",
   "metadata": {},
   "outputs": [
    {
     "name": "stdout",
     "output_type": "stream",
     "text": [
      "Epoch 1/30\n",
      "59/59 [==============================] - 7s 35ms/step - loss: 0.6146 - tp: 29.0000 - fp: 18.0000 - tn: 3234.0000 - fn: 790.0000 - accuracy: 0.8015 - precision: 0.6170 - recall: 0.0354 - auc: 0.7730 - prc: 0.4028 - val_loss: 0.5275 - val_tp: 10.0000 - val_fp: 0.0000e+00 - val_tn: 3162.0000 - val_fn: 900.0000 - val_accuracy: 0.7790 - val_precision: 1.0000 - val_recall: 0.0110 - val_auc: 0.9990 - val_prc: 0.9959\n",
      "Epoch 2/30\n",
      "59/59 [==============================] - 1s 9ms/step - loss: 0.4153 - tp: 278.0000 - fp: 0.0000e+00 - tn: 3252.0000 - fn: 541.0000 - accuracy: 0.8671 - precision: 1.0000 - recall: 0.3394 - auc: 0.9991 - prc: 0.9968 - val_loss: 0.3099 - val_tp: 865.0000 - val_fp: 0.0000e+00 - val_tn: 3162.0000 - val_fn: 45.0000 - val_accuracy: 0.9889 - val_precision: 1.0000 - val_recall: 0.9505 - val_auc: 1.0000 - val_prc: 0.9999\n",
      "Epoch 3/30\n",
      "59/59 [==============================] - 0s 7ms/step - loss: 0.2084 - tp: 804.0000 - fp: 0.0000e+00 - tn: 3252.0000 - fn: 15.0000 - accuracy: 0.9963 - precision: 1.0000 - recall: 0.9817 - auc: 1.0000 - prc: 1.0000 - val_loss: 0.1319 - val_tp: 910.0000 - val_fp: 2.0000 - val_tn: 3160.0000 - val_fn: 0.0000e+00 - val_accuracy: 0.9995 - val_precision: 0.9978 - val_recall: 1.0000 - val_auc: 1.0000 - val_prc: 1.0000\n",
      "Epoch 4/30\n",
      "59/59 [==============================] - 0s 8ms/step - loss: 0.0884 - tp: 819.0000 - fp: 0.0000e+00 - tn: 3252.0000 - fn: 0.0000e+00 - accuracy: 1.0000 - precision: 1.0000 - recall: 1.0000 - auc: 1.0000 - prc: 1.0000 - val_loss: 0.0592 - val_tp: 910.0000 - val_fp: 2.0000 - val_tn: 3160.0000 - val_fn: 0.0000e+00 - val_accuracy: 0.9995 - val_precision: 0.9978 - val_recall: 1.0000 - val_auc: 1.0000 - val_prc: 1.0000\n",
      "Epoch 5/30\n",
      "59/59 [==============================] - 1s 9ms/step - loss: 0.0426 - tp: 819.0000 - fp: 0.0000e+00 - tn: 3252.0000 - fn: 0.0000e+00 - accuracy: 1.0000 - precision: 1.0000 - recall: 1.0000 - auc: 1.0000 - prc: 1.0000 - val_loss: 0.0323 - val_tp: 910.0000 - val_fp: 2.0000 - val_tn: 3160.0000 - val_fn: 0.0000e+00 - val_accuracy: 0.9995 - val_precision: 0.9978 - val_recall: 1.0000 - val_auc: 1.0000 - val_prc: 1.0000\n",
      "Epoch 6/30\n",
      "59/59 [==============================] - 1s 10ms/step - loss: 0.0246 - tp: 819.0000 - fp: 0.0000e+00 - tn: 3252.0000 - fn: 0.0000e+00 - accuracy: 1.0000 - precision: 1.0000 - recall: 1.0000 - auc: 1.0000 - prc: 1.0000 - val_loss: 0.0201 - val_tp: 910.0000 - val_fp: 2.0000 - val_tn: 3160.0000 - val_fn: 0.0000e+00 - val_accuracy: 0.9995 - val_precision: 0.9978 - val_recall: 1.0000 - val_auc: 1.0000 - val_prc: 1.0000\n",
      "Epoch 7/30\n",
      "59/59 [==============================] - 0s 8ms/step - loss: 0.0158 - tp: 819.0000 - fp: 0.0000e+00 - tn: 3252.0000 - fn: 0.0000e+00 - accuracy: 1.0000 - precision: 1.0000 - recall: 1.0000 - auc: 1.0000 - prc: 1.0000 - val_loss: 0.0138 - val_tp: 910.0000 - val_fp: 2.0000 - val_tn: 3160.0000 - val_fn: 0.0000e+00 - val_accuracy: 0.9995 - val_precision: 0.9978 - val_recall: 1.0000 - val_auc: 1.0000 - val_prc: 1.0000\n",
      "Epoch 8/30\n",
      "59/59 [==============================] - 0s 8ms/step - loss: 0.0111 - tp: 819.0000 - fp: 0.0000e+00 - tn: 3252.0000 - fn: 0.0000e+00 - accuracy: 1.0000 - precision: 1.0000 - recall: 1.0000 - auc: 1.0000 - prc: 1.0000 - val_loss: 0.0101 - val_tp: 910.0000 - val_fp: 2.0000 - val_tn: 3160.0000 - val_fn: 0.0000e+00 - val_accuracy: 0.9995 - val_precision: 0.9978 - val_recall: 1.0000 - val_auc: 1.0000 - val_prc: 1.0000\n",
      "Epoch 9/30\n",
      "59/59 [==============================] - 0s 8ms/step - loss: 0.0083 - tp: 819.0000 - fp: 0.0000e+00 - tn: 3252.0000 - fn: 0.0000e+00 - accuracy: 1.0000 - precision: 1.0000 - recall: 1.0000 - auc: 1.0000 - prc: 1.0000 - val_loss: 0.0078 - val_tp: 910.0000 - val_fp: 2.0000 - val_tn: 3160.0000 - val_fn: 0.0000e+00 - val_accuracy: 0.9995 - val_precision: 0.9978 - val_recall: 1.0000 - val_auc: 1.0000 - val_prc: 1.0000\n",
      "Epoch 10/30\n",
      "59/59 [==============================] - 0s 8ms/step - loss: 0.0063 - tp: 819.0000 - fp: 0.0000e+00 - tn: 3252.0000 - fn: 0.0000e+00 - accuracy: 1.0000 - precision: 1.0000 - recall: 1.0000 - auc: 1.0000 - prc: 1.0000 - val_loss: 0.0061 - val_tp: 910.0000 - val_fp: 2.0000 - val_tn: 3160.0000 - val_fn: 0.0000e+00 - val_accuracy: 0.9995 - val_precision: 0.9978 - val_recall: 1.0000 - val_auc: 1.0000 - val_prc: 1.0000\n",
      "Epoch 11/30\n",
      "59/59 [==============================] - 0s 8ms/step - loss: 0.0050 - tp: 819.0000 - fp: 0.0000e+00 - tn: 3252.0000 - fn: 0.0000e+00 - accuracy: 1.0000 - precision: 1.0000 - recall: 1.0000 - auc: 1.0000 - prc: 1.0000 - val_loss: 0.0050 - val_tp: 910.0000 - val_fp: 2.0000 - val_tn: 3160.0000 - val_fn: 0.0000e+00 - val_accuracy: 0.9995 - val_precision: 0.9978 - val_recall: 1.0000 - val_auc: 1.0000 - val_prc: 1.0000\n",
      "Epoch 12/30\n",
      "59/59 [==============================] - 0s 8ms/step - loss: 0.0040 - tp: 819.0000 - fp: 0.0000e+00 - tn: 3252.0000 - fn: 0.0000e+00 - accuracy: 1.0000 - precision: 1.0000 - recall: 1.0000 - auc: 1.0000 - prc: 1.0000 - val_loss: 0.0042 - val_tp: 910.0000 - val_fp: 2.0000 - val_tn: 3160.0000 - val_fn: 0.0000e+00 - val_accuracy: 0.9995 - val_precision: 0.9978 - val_recall: 1.0000 - val_auc: 1.0000 - val_prc: 1.0000\n",
      "Epoch 13/30\n",
      "59/59 [==============================] - 0s 8ms/step - loss: 0.0033 - tp: 819.0000 - fp: 0.0000e+00 - tn: 3252.0000 - fn: 0.0000e+00 - accuracy: 1.0000 - precision: 1.0000 - recall: 1.0000 - auc: 1.0000 - prc: 1.0000 - val_loss: 0.0036 - val_tp: 910.0000 - val_fp: 2.0000 - val_tn: 3160.0000 - val_fn: 0.0000e+00 - val_accuracy: 0.9995 - val_precision: 0.9978 - val_recall: 1.0000 - val_auc: 1.0000 - val_prc: 1.0000\n",
      "Epoch 14/30\n",
      "59/59 [==============================] - 0s 8ms/step - loss: 0.0028 - tp: 819.0000 - fp: 0.0000e+00 - tn: 3252.0000 - fn: 0.0000e+00 - accuracy: 1.0000 - precision: 1.0000 - recall: 1.0000 - auc: 1.0000 - prc: 1.0000 - val_loss: 0.0031 - val_tp: 910.0000 - val_fp: 2.0000 - val_tn: 3160.0000 - val_fn: 0.0000e+00 - val_accuracy: 0.9995 - val_precision: 0.9978 - val_recall: 1.0000 - val_auc: 1.0000 - val_prc: 1.0000\n",
      "Epoch 15/30\n",
      "59/59 [==============================] - 1s 9ms/step - loss: 0.0024 - tp: 819.0000 - fp: 0.0000e+00 - tn: 3252.0000 - fn: 0.0000e+00 - accuracy: 1.0000 - precision: 1.0000 - recall: 1.0000 - auc: 1.0000 - prc: 1.0000 - val_loss: 0.0028 - val_tp: 910.0000 - val_fp: 2.0000 - val_tn: 3160.0000 - val_fn: 0.0000e+00 - val_accuracy: 0.9995 - val_precision: 0.9978 - val_recall: 1.0000 - val_auc: 1.0000 - val_prc: 1.0000\n",
      "Epoch 16/30\n",
      "59/59 [==============================] - 0s 8ms/step - loss: 0.0020 - tp: 819.0000 - fp: 0.0000e+00 - tn: 3252.0000 - fn: 0.0000e+00 - accuracy: 1.0000 - precision: 1.0000 - recall: 1.0000 - auc: 1.0000 - prc: 1.0000 - val_loss: 0.0025 - val_tp: 910.0000 - val_fp: 2.0000 - val_tn: 3160.0000 - val_fn: 0.0000e+00 - val_accuracy: 0.9995 - val_precision: 0.9978 - val_recall: 1.0000 - val_auc: 1.0000 - val_prc: 1.0000\n",
      "Epoch 17/30\n",
      "59/59 [==============================] - 0s 8ms/step - loss: 0.0018 - tp: 819.0000 - fp: 0.0000e+00 - tn: 3252.0000 - fn: 0.0000e+00 - accuracy: 1.0000 - precision: 1.0000 - recall: 1.0000 - auc: 1.0000 - prc: 1.0000 - val_loss: 0.0022 - val_tp: 910.0000 - val_fp: 2.0000 - val_tn: 3160.0000 - val_fn: 0.0000e+00 - val_accuracy: 0.9995 - val_precision: 0.9978 - val_recall: 1.0000 - val_auc: 1.0000 - val_prc: 1.0000\n",
      "Epoch 18/30\n",
      "59/59 [==============================] - 0s 7ms/step - loss: 0.0015 - tp: 819.0000 - fp: 0.0000e+00 - tn: 3252.0000 - fn: 0.0000e+00 - accuracy: 1.0000 - precision: 1.0000 - recall: 1.0000 - auc: 1.0000 - prc: 1.0000 - val_loss: 0.0020 - val_tp: 910.0000 - val_fp: 2.0000 - val_tn: 3160.0000 - val_fn: 0.0000e+00 - val_accuracy: 0.9995 - val_precision: 0.9978 - val_recall: 1.0000 - val_auc: 1.0000 - val_prc: 1.0000\n",
      "Epoch 19/30\n",
      "59/59 [==============================] - 0s 8ms/step - loss: 0.0014 - tp: 819.0000 - fp: 0.0000e+00 - tn: 3252.0000 - fn: 0.0000e+00 - accuracy: 1.0000 - precision: 1.0000 - recall: 1.0000 - auc: 1.0000 - prc: 1.0000 - val_loss: 0.0018 - val_tp: 910.0000 - val_fp: 2.0000 - val_tn: 3160.0000 - val_fn: 0.0000e+00 - val_accuracy: 0.9995 - val_precision: 0.9978 - val_recall: 1.0000 - val_auc: 1.0000 - val_prc: 1.0000\n",
      "Epoch 20/30\n"
     ]
    },
    {
     "name": "stdout",
     "output_type": "stream",
     "text": [
      "59/59 [==============================] - 0s 8ms/step - loss: 0.0012 - tp: 819.0000 - fp: 0.0000e+00 - tn: 3252.0000 - fn: 0.0000e+00 - accuracy: 1.0000 - precision: 1.0000 - recall: 1.0000 - auc: 1.0000 - prc: 1.0000 - val_loss: 0.0017 - val_tp: 910.0000 - val_fp: 2.0000 - val_tn: 3160.0000 - val_fn: 0.0000e+00 - val_accuracy: 0.9995 - val_precision: 0.9978 - val_recall: 1.0000 - val_auc: 1.0000 - val_prc: 1.0000\n",
      "Epoch 21/30\n",
      "59/59 [==============================] - 0s 8ms/step - loss: 0.0011 - tp: 819.0000 - fp: 0.0000e+00 - tn: 3252.0000 - fn: 0.0000e+00 - accuracy: 1.0000 - precision: 1.0000 - recall: 1.0000 - auc: 1.0000 - prc: 1.0000 - val_loss: 0.0016 - val_tp: 910.0000 - val_fp: 2.0000 - val_tn: 3160.0000 - val_fn: 0.0000e+00 - val_accuracy: 0.9995 - val_precision: 0.9978 - val_recall: 1.0000 - val_auc: 1.0000 - val_prc: 1.0000\n",
      "Epoch 22/30\n",
      "59/59 [==============================] - 0s 8ms/step - loss: 9.6459e-04 - tp: 819.0000 - fp: 0.0000e+00 - tn: 3252.0000 - fn: 0.0000e+00 - accuracy: 1.0000 - precision: 1.0000 - recall: 1.0000 - auc: 1.0000 - prc: 1.0000 - val_loss: 0.0015 - val_tp: 910.0000 - val_fp: 2.0000 - val_tn: 3160.0000 - val_fn: 0.0000e+00 - val_accuracy: 0.9995 - val_precision: 0.9978 - val_recall: 1.0000 - val_auc: 1.0000 - val_prc: 1.0000\n",
      "Epoch 23/30\n",
      "59/59 [==============================] - 0s 8ms/step - loss: 8.7306e-04 - tp: 819.0000 - fp: 0.0000e+00 - tn: 3252.0000 - fn: 0.0000e+00 - accuracy: 1.0000 - precision: 1.0000 - recall: 1.0000 - auc: 1.0000 - prc: 1.0000 - val_loss: 0.0014 - val_tp: 910.0000 - val_fp: 2.0000 - val_tn: 3160.0000 - val_fn: 0.0000e+00 - val_accuracy: 0.9995 - val_precision: 0.9978 - val_recall: 1.0000 - val_auc: 1.0000 - val_prc: 1.0000\n",
      "Epoch 24/30\n",
      "59/59 [==============================] - 0s 8ms/step - loss: 7.8803e-04 - tp: 819.0000 - fp: 0.0000e+00 - tn: 3252.0000 - fn: 0.0000e+00 - accuracy: 1.0000 - precision: 1.0000 - recall: 1.0000 - auc: 1.0000 - prc: 1.0000 - val_loss: 0.0013 - val_tp: 910.0000 - val_fp: 2.0000 - val_tn: 3160.0000 - val_fn: 0.0000e+00 - val_accuracy: 0.9995 - val_precision: 0.9978 - val_recall: 1.0000 - val_auc: 1.0000 - val_prc: 1.0000\n",
      "Epoch 25/30\n",
      "59/59 [==============================] - 0s 8ms/step - loss: 7.1889e-04 - tp: 819.0000 - fp: 0.0000e+00 - tn: 3252.0000 - fn: 0.0000e+00 - accuracy: 1.0000 - precision: 1.0000 - recall: 1.0000 - auc: 1.0000 - prc: 1.0000 - val_loss: 0.0012 - val_tp: 910.0000 - val_fp: 2.0000 - val_tn: 3160.0000 - val_fn: 0.0000e+00 - val_accuracy: 0.9995 - val_precision: 0.9978 - val_recall: 1.0000 - val_auc: 1.0000 - val_prc: 1.0000\n",
      "Epoch 26/30\n",
      "59/59 [==============================] - 0s 8ms/step - loss: 6.5216e-04 - tp: 819.0000 - fp: 0.0000e+00 - tn: 3252.0000 - fn: 0.0000e+00 - accuracy: 1.0000 - precision: 1.0000 - recall: 1.0000 - auc: 1.0000 - prc: 1.0000 - val_loss: 0.0012 - val_tp: 910.0000 - val_fp: 2.0000 - val_tn: 3160.0000 - val_fn: 0.0000e+00 - val_accuracy: 0.9995 - val_precision: 0.9978 - val_recall: 1.0000 - val_auc: 1.0000 - val_prc: 1.0000\n",
      "Epoch 27/30\n",
      "59/59 [==============================] - 0s 8ms/step - loss: 6.0988e-04 - tp: 819.0000 - fp: 0.0000e+00 - tn: 3252.0000 - fn: 0.0000e+00 - accuracy: 1.0000 - precision: 1.0000 - recall: 1.0000 - auc: 1.0000 - prc: 1.0000 - val_loss: 0.0011 - val_tp: 910.0000 - val_fp: 2.0000 - val_tn: 3160.0000 - val_fn: 0.0000e+00 - val_accuracy: 0.9995 - val_precision: 0.9978 - val_recall: 1.0000 - val_auc: 1.0000 - val_prc: 1.0000\n",
      "Epoch 28/30\n",
      "59/59 [==============================] - 0s 8ms/step - loss: 5.5024e-04 - tp: 819.0000 - fp: 0.0000e+00 - tn: 3252.0000 - fn: 0.0000e+00 - accuracy: 1.0000 - precision: 1.0000 - recall: 1.0000 - auc: 1.0000 - prc: 1.0000 - val_loss: 0.0011 - val_tp: 910.0000 - val_fp: 2.0000 - val_tn: 3160.0000 - val_fn: 0.0000e+00 - val_accuracy: 0.9995 - val_precision: 0.9978 - val_recall: 1.0000 - val_auc: 1.0000 - val_prc: 1.0000\n",
      "Epoch 29/30\n",
      "59/59 [==============================] - 0s 8ms/step - loss: 5.1273e-04 - tp: 819.0000 - fp: 0.0000e+00 - tn: 3252.0000 - fn: 0.0000e+00 - accuracy: 1.0000 - precision: 1.0000 - recall: 1.0000 - auc: 1.0000 - prc: 1.0000 - val_loss: 0.0010 - val_tp: 910.0000 - val_fp: 2.0000 - val_tn: 3160.0000 - val_fn: 0.0000e+00 - val_accuracy: 0.9995 - val_precision: 0.9978 - val_recall: 1.0000 - val_auc: 1.0000 - val_prc: 1.0000\n",
      "Epoch 30/30\n",
      "59/59 [==============================] - 0s 8ms/step - loss: 4.6235e-04 - tp: 819.0000 - fp: 0.0000e+00 - tn: 3252.0000 - fn: 0.0000e+00 - accuracy: 1.0000 - precision: 1.0000 - recall: 1.0000 - auc: 1.0000 - prc: 1.0000 - val_loss: 0.0010 - val_tp: 910.0000 - val_fp: 2.0000 - val_tn: 3160.0000 - val_fn: 0.0000e+00 - val_accuracy: 0.9995 - val_precision: 0.9978 - val_recall: 1.0000 - val_auc: 1.0000 - val_prc: 1.0000\n",
      "Model: \"sequential\"\n",
      "_________________________________________________________________\n",
      " Layer (type)                Output Shape              Param #   \n",
      "=================================================================\n",
      " lstm (LSTM)                 (None, 100)               42800     \n",
      "                                                                 \n",
      " dropout (Dropout)           (None, 100)               0         \n",
      "                                                                 \n",
      " dense (Dense)               (None, 1)                 101       \n",
      "                                                                 \n",
      "=================================================================\n",
      "Total params: 42,901\n",
      "Trainable params: 42,901\n",
      "Non-trainable params: 0\n",
      "_________________________________________________________________\n"
     ]
    }
   ],
   "source": [
    "model = Sequential()\n",
    "model.add(LSTM(100, input_shape=(X_train.shape[1], X_train.shape[2])))\n",
    "model.add(Dropout(0.2))\n",
    "model.add(Dense(1, activation='sigmoid'))\n",
    "model.compile(loss='binary_crossentropy', \n",
    "              optimizer='adam', metrics=METRICS)\n",
    "\n",
    "history = model.fit(X_train, y_train, epochs=30, batch_size=70, validation_data=(X_test, y_test), verbose=1)\n",
    "\n",
    "model.summary()"
   ]
  },
  {
   "cell_type": "code",
   "execution_count": 23,
   "id": "0aa89edb",
   "metadata": {},
   "outputs": [
    {
     "name": "stdout",
     "output_type": "stream",
     "text": [
      "128/128 [==============================] - 1s 2ms/step\n",
      "128/128 [==============================] - 0s 2ms/step\n"
     ]
    },
    {
     "data": {
      "text/plain": [
       "(4071, 1)"
      ]
     },
     "execution_count": 23,
     "metadata": {},
     "output_type": "execute_result"
    }
   ],
   "source": [
    "train_predict = model.predict(X_train)\n",
    "test_predict = model.predict(X_test)\n",
    "train_predict.shape"
   ]
  },
  {
   "cell_type": "code",
   "execution_count": 24,
   "id": "c980952f",
   "metadata": {},
   "outputs": [],
   "source": [
    "loss,tp,fp,tn,fn,accuracy,precision, recall,auc,prc = model.evaluate(X_test, y_test, verbose=0)"
   ]
  },
  {
   "cell_type": "code",
   "execution_count": 25,
   "id": "4e75220d",
   "metadata": {},
   "outputs": [
    {
     "data": {
      "text/plain": [
       "0.0010076049948111176"
      ]
     },
     "execution_count": 25,
     "metadata": {},
     "output_type": "execute_result"
    }
   ],
   "source": [
    "loss"
   ]
  },
  {
   "cell_type": "code",
   "execution_count": 26,
   "id": "79661c93",
   "metadata": {},
   "outputs": [
    {
     "data": {
      "text/plain": [
       "(910.0,\n",
       " 2.0,\n",
       " 3160.0,\n",
       " 0.0,\n",
       " 0.9995088577270508,\n",
       " 0.9978070259094238,\n",
       " 1.0,\n",
       " 1.0,\n",
       " 1.0)"
      ]
     },
     "execution_count": 26,
     "metadata": {},
     "output_type": "execute_result"
    }
   ],
   "source": [
    "tp,fp,tn,fn,accuracy,precision,recall,auc,prc"
   ]
  },
  {
   "cell_type": "code",
   "execution_count": 27,
   "id": "423df6c4",
   "metadata": {},
   "outputs": [
    {
     "data": {
      "text/plain": [
       "0.9978070259094238"
      ]
     },
     "execution_count": 27,
     "metadata": {},
     "output_type": "execute_result"
    }
   ],
   "source": [
    "precision"
   ]
  },
  {
   "cell_type": "code",
   "execution_count": 28,
   "id": "76f15605",
   "metadata": {},
   "outputs": [
    {
     "data": {
      "text/plain": [
       "1.0"
      ]
     },
     "execution_count": 28,
     "metadata": {},
     "output_type": "execute_result"
    }
   ],
   "source": [
    "recall"
   ]
  },
  {
   "cell_type": "code",
   "execution_count": 29,
   "id": "088e75f1",
   "metadata": {},
   "outputs": [
    {
     "data": {
      "text/plain": [
       "0.9989023093511357"
      ]
     },
     "execution_count": 29,
     "metadata": {},
     "output_type": "execute_result"
    }
   ],
   "source": [
    "f1score=(2*precision*recall)/(precision+recall)\n",
    "f1score"
   ]
  },
  {
   "cell_type": "code",
   "execution_count": 31,
   "id": "b7d6279b",
   "metadata": {},
   "outputs": [
    {
     "data": {
      "image/png": "[encoded data removed]",
      "text/plain": [
       "<Figure size 576x288 with 1 Axes>"
      ]
     },
     "metadata": {
      "needs_background": "light"
     },
     "output_type": "display_data"
    }
   ],
   "source": [
    "plt.figure(figsize=(8,4))\n",
    "plt.plot(history.history['accuracy'], label='Train Loss')\n",
    "plt.plot(history.history['val_accuracy'], label='Test Loss')\n",
    "plt.title('model loss')\n",
    "plt.ylabel('loss')\n",
    "plt.xlabel('epochs')\n",
    "plt.legend(loc='upper right')\n",
    "plt.show();"
   ]
  },
  {
   "cell_type": "code",
   "execution_count": 32,
   "id": "23951240",
   "metadata": {},
   "outputs": [
    {
     "data": {
      "text/plain": [
       "2668    1\n",
       "2528    1\n",
       "2312    1\n",
       "1604    0\n",
       "7241    0\n",
       "       ..\n",
       "8097    1\n",
       "2132    0\n",
       "2501    1\n",
       "3489    0\n",
       "414     0\n",
       "Name: Occupancy, Length: 4072, dtype: int64"
      ]
     },
     "execution_count": 32,
     "metadata": {},
     "output_type": "execute_result"
    }
   ],
   "source": [
    "y_test"
   ]
  },
  {
   "cell_type": "code",
   "execution_count": 43,
   "id": "090f71c8",
   "metadata": {},
   "outputs": [
    {
     "data": {
      "image/png": "[encoded data removed]",
      "text/plain": [
       "<Figure size 576x288 with 1 Axes>"
      ]
     },
     "metadata": {
      "needs_background": "light"
     },
     "output_type": "display_data"
    }
   ],
   "source": [
    "aa=[x for x in range(4072)]\n",
    "plt.figure(figsize=(8,4))\n",
    "plt.plot(aa, y_test[:4072], marker='.', label=\"actual\")\n",
    "plt.plot(aa, test_predict[:,0][:23492], 'r', label=\"prediction\")\n",
    "plt.tick_params(left=False, labelleft=True) #remove ticks\n",
    "plt.tight_layout()\n",
    "sns.despine(top=True)\n",
    "plt.subplots_adjust(left=0.07)\n",
    "plt.ylabel('', size=15)\n",
    "plt.xlabel('Time step', size=15)\n",
    "plt.legend(fontsize=15)\n",
    "plt.show()"
   ]
  },
  {
   "cell_type": "code",
   "execution_count": 34,
   "id": "7b2ec721",
   "metadata": {},
   "outputs": [],
   "source": [
    "import numpy as np\n",
    "from sklearn.pipeline import make_pipeline\n",
    "from sklearn.preprocessing import StandardScaler"
   ]
  },
  {
   "cell_type": "code",
   "execution_count": 35,
   "id": "826db3c9",
   "metadata": {},
   "outputs": [
    {
     "data": {
      "text/plain": [
       "Pipeline(steps=[('standardscaler', StandardScaler()),\n",
       "                ('svc', SVC(gamma='auto'))])"
      ]
     },
     "execution_count": 35,
     "metadata": {},
     "output_type": "execute_result"
    }
   ],
   "source": [
    "from sklearn.svm import SVC\n",
    "clf = make_pipeline(StandardScaler(), SVC(gamma='auto'))\n",
    "clf.fit(X,y)"
   ]
  },
  {
   "cell_type": "code",
   "execution_count": 36,
   "id": "5db49e71",
   "metadata": {},
   "outputs": [],
   "source": [
    "pred=clf.predict(X)"
   ]
  },
  {
   "cell_type": "code",
   "execution_count": 37,
   "id": "cd98e6a6",
   "metadata": {},
   "outputs": [],
   "source": [
    "from sklearn.metrics import accuracy_score"
   ]
  },
  {
   "cell_type": "code",
   "execution_count": 38,
   "id": "94f6c424",
   "metadata": {},
   "outputs": [],
   "source": [
    "score=accuracy_score(y,pred)"
   ]
  },
  {
   "cell_type": "code",
   "execution_count": 39,
   "id": "feec6e3d",
   "metadata": {},
   "outputs": [
    {
     "data": {
      "text/plain": [
       "1.0"
      ]
     },
     "execution_count": 39,
     "metadata": {},
     "output_type": "execute_result"
    }
   ],
   "source": [
    "score"
   ]
  },
  {
   "cell_type": "code",
   "execution_count": null,
   "id": "2ceec38b",
   "metadata": {},
   "outputs": [],
   "source": []
  }
 ],
 "metadata": {
  "kernelspec": {
   "display_name": "Python 3 (ipykernel)",
   "language": "python",
   "name": "python3"
  },
  "language_info": {
   "codemirror_mode": {
    "name": "ipython",
    "version": 3
   },
   "file_extension": ".py",
   "mimetype": "text/x-python",
   "name": "python",
   "nbconvert_exporter": "python",
   "pygments_lexer": "ipython3",
   "version": "3.9.12"
  }
 },
 "nbformat": 4,
 "nbformat_minor": 5
}
